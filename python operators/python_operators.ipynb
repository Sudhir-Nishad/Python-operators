{
 "cells": [
  {
   "cell_type": "code",
   "execution_count": 10,
   "metadata": {},
   "outputs": [],
   "source": [
    "# a=float(input(\"enter a no.: \"))\n",
    "# b=float(input(\"enter second no.: \"))\n",
    "# sum=a+b\n",
    "# diff=a-b\n",
    "# mul=a*b\n",
    "# div=a/b\n",
    "# print(f'Sum is {sum}')\n",
    "# print(f'Difference is {diff}')\n",
    "# print(f'Product is {mul}')\n",
    "# print(f'Quotient is {div}')"
   ]
  },
  {
   "cell_type": "code",
   "execution_count": 11,
   "metadata": {},
   "outputs": [
    {
     "name": "stdout",
     "output_type": "stream",
     "text": [
      "12\n",
      "7\n",
      "10\n",
      "1.4285714285714286\n",
      "1\n"
     ]
    }
   ],
   "source": [
    "a=10\n",
    "b=5\n",
    "a+=2\n",
    "print(a)\n",
    "a-=5\n",
    "print(a)\n",
    "b*=2\n",
    "print(b)\n",
    "b/=7\n",
    "print(b)\n",
    "a>>=2\n",
    "print(a)"
   ]
  },
  {
   "cell_type": "code",
   "execution_count": 12,
   "metadata": {},
   "outputs": [
    {
     "name": "stdout",
     "output_type": "stream",
     "text": [
      "a is greater than b\n"
     ]
    }
   ],
   "source": [
    "a=10\n",
    "b=5\n",
    "if a>b:\n",
    "    print(\"a is greater than b\")\n",
    "else:\n",
    "    print(\"b is greater than a\")"
   ]
  },
  {
   "cell_type": "code",
   "execution_count": 14,
   "metadata": {},
   "outputs": [
    {
     "name": "stdout",
     "output_type": "stream",
     "text": [
      "a is positive and lesser than b\n"
     ]
    }
   ],
   "source": [
    "a=5\n",
    "b=6\n",
    "if a>0 and a<b:\n",
    "    print(\"a is positive and lesser than b\")\n",
    "elif b<0 or b>a:\n",
    "    print(\"B is positive and greater than a\")"
   ]
  },
  {
   "cell_type": "code",
   "execution_count": 15,
   "metadata": {},
   "outputs": [
    {
     "name": "stdout",
     "output_type": "stream",
     "text": [
      "140718154467896\n"
     ]
    }
   ],
   "source": [
    "a=5\n",
    "print(id(a))"
   ]
  },
  {
   "cell_type": "code",
   "execution_count": 19,
   "metadata": {},
   "outputs": [
    {
     "name": "stdout",
     "output_type": "stream",
     "text": [
      "4\n",
      "7\n",
      "-6\n",
      "3\n"
     ]
    }
   ],
   "source": [
    "a=5\n",
    "b=6\n",
    "print(a & b)\n",
    "print(a | b)\n",
    "print(~a)\n",
    "print(a^b)"
   ]
  },
  {
   "cell_type": "code",
   "execution_count": 20,
   "metadata": {},
   "outputs": [
    {
     "name": "stdout",
     "output_type": "stream",
     "text": [
      "-5\n"
     ]
    }
   ],
   "source": [
    "\n",
    "a=5\n",
    "negative_a = -a\n",
    "print(negative_a)"
   ]
  },
  {
   "cell_type": "code",
   "execution_count": 21,
   "metadata": {},
   "outputs": [
    {
     "name": "stdout",
     "output_type": "stream",
     "text": [
      "5\n"
     ]
    }
   ],
   "source": [
    "condition = True\n",
    "a= 5 if condition else 10\n",
    "print(a)\n"
   ]
  }
 ],
 "metadata": {
  "kernelspec": {
   "display_name": "Python 3",
   "language": "python",
   "name": "python3"
  },
  "language_info": {
   "codemirror_mode": {
    "name": "ipython",
    "version": 3
   },
   "file_extension": ".py",
   "mimetype": "text/x-python",
   "name": "python",
   "nbconvert_exporter": "python",
   "pygments_lexer": "ipython3",
   "version": "3.12.2"
  }
 },
 "nbformat": 4,
 "nbformat_minor": 2
}
